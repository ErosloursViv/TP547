{
  "nbformat": 4,
  "nbformat_minor": 0,
  "metadata": {
    "colab": {
      "provenance": [],
      "toc_visible": true
    },
    "kernelspec": {
      "name": "python3",
      "display_name": "Python 3"
    },
    "language_info": {
      "name": "python"
    }
  },
  "cells": [
    {
      "cell_type": "code",
      "source": [
        "import numpy as np\n",
        "import math\n",
        "import scipy as sp\n",
        "import matplotlib.pyplot as plt\n",
        "np.random.seed(42)"
      ],
      "metadata": {
        "id": "m8ZvLI9q3m-w"
      },
      "execution_count": 1,
      "outputs": []
    },
    {
      "cell_type": "markdown",
      "source": [
        "# Exercicio 1\n",
        "\n",
        "Suponha que haja 40 bolas em um chapéu, das quais 10 são vermelhas, 10 são azuis,10 são\n",
        "amarelas e 10 são roxas. Qual é a probabilidade de obter no mínimo uma bola azul e uma roxa\n",
        "ao tirar 8 bolas aleatoriamente do chapéu? O que muda no resultado caso a bola seja retirada e\n",
        "não reposta."
      ],
      "metadata": {
        "id": "5VUJB52JlzBV"
      }
    },
    {
      "cell_type": "code",
      "execution_count": 2,
      "metadata": {
        "id": "OWaAN3LUlUws"
      },
      "outputs": [],
      "source": [
        "def event(replace=False):\n",
        "  n_red = 10 # quantidade de bolas vermelhas\n",
        "  n_blue = 10 # quantidade de bolas azuis\n",
        "  n_green = 10 # quantidade de bolas verdes\n",
        "  n_purple = 10 # quantidade de bolas roxas\n",
        "  n_total = n_red + n_blue + n_green + n_purple # total de bolas\n",
        "  pool = [0]*n_red + [1]*n_blue + [2]*n_green + [3]*n_purple # vetor que modela o espaco amostral\n",
        "\n",
        "  n_selected = 8 # quantidade de bolas selecionadas\n",
        "\n",
        "  selected = [] #guarda amostras selecionadas\n",
        "  for i in range(n_selected): # realiza sorteios\n",
        "    r = np.random.randint(0, n_total) # gera um sorteio do total de bolas\n",
        "    selected.append(pool[r]) # salva o sorteio\n",
        "\n",
        "    if not replace: # se reposicao nao for feita\n",
        "\n",
        "      pool[r] = pool[n_total-1] # retira a bola salva\n",
        "      n_total -= 1 # decrementa o total de bolas\n",
        "\n",
        "  return np.array(selected)"
      ]
    },
    {
      "cell_type": "code",
      "source": [
        "def monte_carlo(n_events=10000, replace=False):\n",
        "  favorable_events = 0 # conta numero de enventos favoraveis\n",
        "  for _ in range(n_events): # gera eventos de monte carlo\n",
        "    selected = event(replace=replace) # realiza mote carlo sem repeticao\n",
        "    if sum(selected == 1) >= 1 and sum(selected == 3) >= 1: # verifica as condicoes favoraveis\n",
        "      favorable_events += 1\n",
        "  return favorable_events/n_events # retorna frequencia relativa"
      ],
      "metadata": {
        "id": "hDaJamEjrewW"
      },
      "execution_count": 3,
      "outputs": []
    },
    {
      "cell_type": "code",
      "source": [
        "prob_worep = monte_carlo(replace=False)\n",
        "prob_rep = monte_carlo(replace=True)\n",
        "print(f'a probabilidade sem repeticao e {prob_worep}\\na probabilidade com repeticao e {prob_rep}')\n"
      ],
      "metadata": {
        "colab": {
          "base_uri": "https://localhost:8080/"
        },
        "id": "XoA4NchFsuAP",
        "outputId": "019e73f8-ed7d-4e4b-f3a0-0d72ca858d1e"
      },
      "execution_count": 4,
      "outputs": [
        {
          "output_type": "stream",
          "name": "stdout",
          "text": [
            "a probabilidade sem repeticao e 0.8569\n",
            "a probabilidade com repeticao e 0.8054\n"
          ]
        }
      ]
    },
    {
      "cell_type": "markdown",
      "source": [
        "# Exercicio 2\n",
        "Se você lançar dois dados equilibrados simultaneamente, usando simulação de Monte Carlo\n",
        "faça a esDmaDva da probabilidade de que a soma seja igual ou maior que 10."
      ],
      "metadata": {
        "id": "ALWCcKxgwNpH"
      }
    },
    {
      "cell_type": "code",
      "source": [
        "def event(n_dices=2):\n",
        "  values = [] # guarda valores dos dados\n",
        "  for _ in range(n_dices):\n",
        "    values.append(np.random.randint(1,7)) # simula o jogo de 1 dado\n",
        "    # gerando uma variavel inteira entre 1 e 6\n",
        "  return values"
      ],
      "metadata": {
        "id": "Tl_w3i1PwVxP"
      },
      "execution_count": 5,
      "outputs": []
    },
    {
      "cell_type": "code",
      "source": [
        "def monte_carlo(n_events=10000):\n",
        "  favorable_events = 0 # conta numero de enventos favoraveis\n",
        "  for _ in range(n_events): # gera eventos de monte carlo\n",
        "    dices = event() # realiza sorteio\n",
        "    if sum(dices) >= 10: # verifica condicao favoravel\n",
        "      favorable_events += 1\n",
        "  return favorable_events/n_events # retorna frequencia relativa"
      ],
      "metadata": {
        "id": "YwoqIrIJwoQS"
      },
      "execution_count": 6,
      "outputs": []
    },
    {
      "cell_type": "code",
      "source": [
        "print(f'a probabilidade da soma de 2 dados ser maior ou igual a 10 e {monte_carlo()}')"
      ],
      "metadata": {
        "colab": {
          "base_uri": "https://localhost:8080/"
        },
        "id": "AconNoxIxFEe",
        "outputId": "bbfbdb57-9632-4498-9d4b-08974832afb6"
      },
      "execution_count": 7,
      "outputs": [
        {
          "output_type": "stream",
          "name": "stdout",
          "text": [
            "a probabilidade da soma de 2 dados ser maior ou igual a 10 e 0.1677\n"
          ]
        }
      ]
    },
    {
      "cell_type": "markdown",
      "source": [
        "# Exercicio 3\n",
        "\n",
        "Você paga 1 real e pode lançar quatro dados. Se a soma dos olhos nos dados for inferior a\n",
        "12, recebe de volta r reais, caso contrário perde o investimento de 1 real.Suponha que r = 20. Você vai, então, a longo prazo, ganhar ou perder dinheiro ao jogar este jogo? Suponha que o\n",
        "jogador faça novas apostas enquanto tem dinheiro."
      ],
      "metadata": {
        "id": "a8NB0zeQxau8"
      }
    },
    {
      "cell_type": "code",
      "source": [
        "def event(n_dices=4): # idem ao exercicio anterior\n",
        "  values = []\n",
        "  for _ in range(n_dices):\n",
        "    values.append(np.random.randint(1,7))\n",
        "  return values"
      ],
      "metadata": {
        "id": "tO9isDuPxcSw"
      },
      "execution_count": 8,
      "outputs": []
    },
    {
      "cell_type": "code",
      "source": [
        "def monte_carlo(n_events=10000):\n",
        "  amount_spent = 0 #armazena valor gasto\n",
        "  amount_won = 0 # armazena valor ganho\n",
        "  for _ in range(n_events):\n",
        "    amount_spent += 1 # gasta 1 real por aposta\n",
        "    dices = event(n_dices=4) # realiza o jogo de 4 dados\n",
        "    if sum(dices) < 12: # se a soma < 12, sucesso\n",
        "      amount_won += 20\n",
        "  profit = amount_won - amount_spent # calcula o lucro\n",
        "  return profit # retorna o lucro"
      ],
      "metadata": {
        "id": "Cvt5juD6y1dH"
      },
      "execution_count": 9,
      "outputs": []
    },
    {
      "cell_type": "code",
      "source": [
        "profit = monte_carlo()\n",
        "\n",
        "print(f'o jogador vai ganhar medio por jogada e {profit/10000} reais\\nportanto e lucrativo jogar esse jogo ao longo prazo, uma vez que o ganho medio e positivo')"
      ],
      "metadata": {
        "colab": {
          "base_uri": "https://localhost:8080/"
        },
        "id": "LyY6zMxIzjty",
        "outputId": "389ec2cc-edbd-41cc-abe5-99ba9c58147b"
      },
      "execution_count": 10,
      "outputs": [
        {
          "output_type": "stream",
          "name": "stdout",
          "text": [
            "o jogador vai ganhar medio por jogada e 3.808 reais\n"
          ]
        }
      ]
    },
    {
      "cell_type": "markdown",
      "source": [
        "# Exercicio 4:\n",
        "4) Resolva as seguintes integrais pelo método da integração de monte carlo e pelo método da integração por importância."
      ],
      "metadata": {
        "id": "5_QMrHm107Un"
      }
    },
    {
      "cell_type": "markdown",
      "source": [
        "## $\\int_{0}^{1} (1-x^5)^\\frac{7}{2} dx$"
      ],
      "metadata": {
        "id": "syMldF2C1j0H"
      }
    },
    {
      "cell_type": "code",
      "source": [
        "def f(x): # define funcao f(x)\n",
        "  return (1 - x**5)**(7/2)"
      ],
      "metadata": {
        "id": "QfoomatY1jKU"
      },
      "execution_count": 11,
      "outputs": []
    },
    {
      "cell_type": "code",
      "source": [
        "def monte_carlo(n=10000):\n",
        "  x = np.random.uniform(0, 1, n)\n",
        "  return np.mean(f(x))\n",
        "\n",
        "i_monte_carlo = monte_carlo()\n",
        "print(f'a integral pelo metodo de monte carlo e {i_monte_carlo}')"
      ],
      "metadata": {
        "colab": {
          "base_uri": "https://localhost:8080/"
        },
        "id": "2_3CDPd-09Nb",
        "outputId": "8523ca40-55a5-480e-9d0d-ecd5d5e252d2"
      },
      "execution_count": 12,
      "outputs": [
        {
          "output_type": "stream",
          "name": "stdout",
          "text": [
            "a integral pelo metodo de monte carlo e 0.694335516620481\n"
          ]
        }
      ]
    },
    {
      "cell_type": "markdown",
      "source": [
        "### Escolhendo a funcao:\n",
        "\n",
        "$g(x) = 3/2*(1-x^2)$"
      ],
      "metadata": {
        "id": "gL7R-btHkXqi"
      }
    },
    {
      "cell_type": "code",
      "source": [
        "def gen_g(n_samples): # gerar amostras pelo metodo da rejeicao\n",
        "    samples = []\n",
        "    M = 3/2\n",
        "    while len(samples) < n_samples:\n",
        "        x = np.random.uniform(0, 1)\n",
        "        u = np.random.uniform(0, 1)\n",
        "        gx = (3/2) * (1 - x**2)\n",
        "        if u <= gx / M:\n",
        "            samples.append(x)\n",
        "    return np.array(samples)"
      ],
      "metadata": {
        "id": "QSipw0Ftonjg"
      },
      "execution_count": 13,
      "outputs": []
    },
    {
      "cell_type": "code",
      "source": [
        "def monte_carlo_importance(n=10000):\n",
        "  x = gen_g(n)\n",
        "  weights = f(x) / (3/2*(1-x**2))\n",
        "  return np.mean(weights)"
      ],
      "metadata": {
        "id": "JP7o-GZ99YpK"
      },
      "execution_count": 14,
      "outputs": []
    },
    {
      "cell_type": "code",
      "source": [
        "i_monte_carlo = monte_carlo_importance()\n",
        "print(f'a integral pelo metodo de monte carlo com importancia e {i_monte_carlo}')"
      ],
      "metadata": {
        "colab": {
          "base_uri": "https://localhost:8080/"
        },
        "id": "DidgyHxBBFL6",
        "outputId": "bd18c504-6159-4f4e-deec-d2a022b08b03"
      },
      "execution_count": 15,
      "outputs": [
        {
          "output_type": "stream",
          "name": "stdout",
          "text": [
            "a integral pelo metodo de monte carlo com importancia e 0.6912983316158339\n"
          ]
        }
      ]
    },
    {
      "cell_type": "markdown",
      "source": [
        "$\\int_0^1 (1 - x^5)^{(7/2)} dx = (105 \\sqrt{π}\\Gamma(6/5))/(16 \\Gamma(47/10))≈0.692088$\n",
        "\n",
        "Logo, para o mesmo numero de amostras, a integral por importancia tem valor mais proximo, portanto, menor variancia."
      ],
      "metadata": {
        "id": "MJWt6qnCBZNX"
      }
    },
    {
      "cell_type": "markdown",
      "source": [
        "## $\\int_{-5}^{10} exp(x + x^3) dx$"
      ],
      "metadata": {
        "id": "TIti1fIPB_HL"
      }
    },
    {
      "cell_type": "markdown",
      "source": [
        "### Avaliacao da Inegral\n",
        "\n",
        "$\\int_{-5}^{10} exp(x + x^3) dx \\approx 1.442*10^{436}$\n",
        "\n",
        "***A integral com limites de -5 a 10 esta estourando a precisao do python portanto o limite superior sera alterado para 1 afim de validar o procedimento corretamente***\n",
        "\n",
        "$\\int_{-5}^1 e^{(x + x^3)} dx≈3.0741... $"
      ],
      "metadata": {
        "id": "_4E8OHR0TxVp"
      }
    },
    {
      "cell_type": "code",
      "source": [
        "def f(x):\n",
        "    return np.exp(x + x**3)\n",
        "\n",
        "def monte_carlo(n=100000):\n",
        "    a = -5\n",
        "    b = 1\n",
        "    x = np.random.uniform(a, b, n)\n",
        "    f_x = f(x)\n",
        "    return (b - a) * np.mean(f_x)"
      ],
      "metadata": {
        "id": "vTZOD3pmBQIK"
      },
      "execution_count": 16,
      "outputs": []
    },
    {
      "cell_type": "code",
      "source": [
        "i_monte_carlo = monte_carlo()\n",
        "print(f'a integral pelo metodo de monte carlo e {i_monte_carlo}')"
      ],
      "metadata": {
        "colab": {
          "base_uri": "https://localhost:8080/"
        },
        "id": "hin6xIdDC1gP",
        "outputId": "67f15dc7-6b41-4571-80ed-f3dc569b71b3"
      },
      "execution_count": 17,
      "outputs": [
        {
          "output_type": "stream",
          "name": "stdout",
          "text": [
            "a integral pelo metodo de monte carlo e 3.075980184591134\n"
          ]
        }
      ]
    },
    {
      "cell_type": "markdown",
      "source": [
        "### Escolhendo a funcao:\n",
        "\n",
        "$g(x) = A \\exp(x) \\quad -5\\leq \\theta \\leq 1$\n",
        "\n",
        "$\\int_{-5}^{1}\\exp(x) = (e-1/e^5)$\n",
        "\n",
        "$A = 1/(e-1/e^5)$\n",
        "\n",
        "$G(x) = (-1 + e^(5 + x))/(-1 + e^6)$\n",
        "\n",
        "$x = -5 + log(1 - u + e^6 u)$"
      ],
      "metadata": {
        "id": "FRiuuo4wU7k0"
      }
    },
    {
      "cell_type": "code",
      "source": [
        "def gen_g(n_samples):\n",
        "  u = np.random.uniform(0, 1, n_samples)\n",
        "  e = np.exp(1)\n",
        "  return  -5 + np.log(1 - u + e**6*u)\n",
        "\n",
        "def g(x):\n",
        "  e = np.exp(1)\n",
        "  return np.exp(x)/(e-1/e**5)"
      ],
      "metadata": {
        "id": "D9kIcdeXU7LC"
      },
      "execution_count": 18,
      "outputs": []
    },
    {
      "cell_type": "code",
      "source": [
        "def monte_carlo_importance(n=10000):\n",
        "  x = gen_g(n)\n",
        "  weights = f(x) / g(x)\n",
        "  return np.mean(weights)"
      ],
      "metadata": {
        "id": "99JsLfNqTSSQ"
      },
      "execution_count": 19,
      "outputs": []
    },
    {
      "cell_type": "code",
      "source": [
        "i_monte_carlo = monte_carlo_importance()\n",
        "print(f'a integral pelo metodo de monte carlo com importancia e {i_monte_carlo}')"
      ],
      "metadata": {
        "colab": {
          "base_uri": "https://localhost:8080/"
        },
        "id": "QrZLIl1UYC-x",
        "outputId": "f0e16e06-61b8-4de4-dab8-034a6c737230"
      },
      "execution_count": 20,
      "outputs": [
        {
          "output_type": "stream",
          "name": "stdout",
          "text": [
            "a integral pelo metodo de monte carlo com importancia e 3.0913768687069645\n"
          ]
        }
      ]
    },
    {
      "cell_type": "markdown",
      "source": [
        "## $\\int_{0}^{∞} x^2(1+x^2)^{-3} dx$"
      ],
      "metadata": {
        "id": "zbIQpbiRGyt0"
      }
    },
    {
      "cell_type": "markdown",
      "source": [
        "fazer: $x = \\tan{\\theta}$\n",
        "\n",
        "$\\frac{\\tan^2{\\theta}}{(1+\\tan^2{\\theta})^3} = \\frac{\\tan^2{\\theta}}{\\sec^6{\\theta}}$\n",
        "\n",
        "$dx = \\sec^2{\\theta}$\n",
        "\n",
        "$\\int_{0}^{∞} x^2(1+x^2)^{-3} dx = \\frac{1}{4}\\int_{0}^{\\pi/2}\\sin^2{2\\theta}d\\theta$"
      ],
      "metadata": {
        "id": "YbZbSJQEIMwx"
      }
    },
    {
      "cell_type": "code",
      "source": [
        "def f(theta):\n",
        "    return np.sin(2*theta)**2/4\n",
        "\n",
        "def monte_carlo(n=100000):\n",
        "    a = 0\n",
        "    b = np.pi/2\n",
        "    theta = np.random.uniform(a, b, n)\n",
        "    f_theta = f(theta)\n",
        "    return (b - a) * np.mean(f_theta)"
      ],
      "metadata": {
        "id": "NJp-YNaKIKt4"
      },
      "execution_count": 21,
      "outputs": []
    },
    {
      "cell_type": "code",
      "source": [
        "i_monte_carlo = monte_carlo()\n",
        "print(f'a integral pelo metodo de monte carlo e {i_monte_carlo}')"
      ],
      "metadata": {
        "colab": {
          "base_uri": "https://localhost:8080/"
        },
        "id": "n4Y2nXHmHGcZ",
        "outputId": "7a707c5c-6db1-4b62-f913-0fb2e1e57733"
      },
      "execution_count": 22,
      "outputs": [
        {
          "output_type": "stream",
          "name": "stdout",
          "text": [
            "a integral pelo metodo de monte carlo e 0.19629210878730252\n"
          ]
        }
      ]
    },
    {
      "cell_type": "markdown",
      "source": [
        "### Escolhendo a funcao:\n",
        "\n",
        "$g(\\theta) = A \\sin{2\\theta}d\\theta, \\quad 0\\leq \\theta \\leq \\pi/2$\n",
        "\n",
        "$\\int_{0}^{\\pi/2}\\sin{2\\theta}d\\theta = 1$\n",
        "\n",
        "$A = 1$\n",
        "\n",
        "$G(\\theta) = \\int_{0}^{\\theta}\\sin{2\\theta'}d\\theta' = \\sin^2{\\theta}$\n",
        "\n",
        "$u = \\sin^2{\\theta}$\n",
        "\n",
        "$\\theta = \\arcsin{\\sqrt{u}}$"
      ],
      "metadata": {
        "id": "nopd8DVyNg1F"
      }
    },
    {
      "cell_type": "code",
      "source": [
        "# gerar g(theta) pelo metodo da inversao\n",
        "def gen_g(n_samples):\n",
        "  u = np.random.uniform(0, 1, n_samples)\n",
        "  return np.arcsin(np.sqrt(u))\n",
        "\n",
        "def monte_carlo_importance(n=10000):\n",
        "  theta = gen_g(n)\n",
        "  weights = f(theta) / np.sin(2*theta)\n",
        "  return np.mean(weights)"
      ],
      "metadata": {
        "id": "T5zlTa6zJ9YO"
      },
      "execution_count": 23,
      "outputs": []
    },
    {
      "cell_type": "code",
      "source": [
        "i_monte_carlo = monte_carlo_importance()\n",
        "print(f'a integral pelo metodo de monte carlo com importancia e {i_monte_carlo}')"
      ],
      "metadata": {
        "colab": {
          "base_uri": "https://localhost:8080/"
        },
        "id": "wabvHcqVS2gS",
        "outputId": "c22dfcdc-97bd-4de9-933b-db4226ee94c9"
      },
      "execution_count": 24,
      "outputs": [
        {
          "output_type": "stream",
          "name": "stdout",
          "text": [
            "a integral pelo metodo de monte carlo com importancia e 0.19654358470551514\n"
          ]
        }
      ]
    },
    {
      "cell_type": "markdown",
      "source": [
        "$\\int_0^∞ x^2/(1 + x^2)^3 dx = π/16≈0.19635$"
      ],
      "metadata": {
        "id": "BDWOx19VrYkM"
      }
    },
    {
      "cell_type": "code",
      "source": [],
      "metadata": {
        "id": "1x8SBueGrq9C"
      },
      "execution_count": null,
      "outputs": []
    }
  ]
}