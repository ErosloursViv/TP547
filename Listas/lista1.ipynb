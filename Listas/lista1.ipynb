{
  "nbformat": 4,
  "nbformat_minor": 0,
  "metadata": {
    "colab": {
      "provenance": [],
      "collapsed_sections": [
        "sEEuhbIBztHn"
      ],
      "toc_visible": true
    },
    "kernelspec": {
      "name": "python3",
      "display_name": "Python 3"
    },
    "language_info": {
      "name": "python"
    }
  },
  "cells": [
    {
      "cell_type": "markdown",
      "source": [
        "# Atividade 1"
      ],
      "metadata": {
        "id": "9KBvt2j0zptU"
      }
    },
    {
      "cell_type": "code",
      "source": [
        "# imports\n",
        "import numpy as np\n",
        "import matplotlib.pyplot as plt\n",
        "import math\n",
        "import matplotlib.pyplot as plt"
      ],
      "metadata": {
        "id": "bnbkFkX-6BBP"
      },
      "execution_count": 1,
      "outputs": []
    },
    {
      "cell_type": "markdown",
      "source": [
        "## Exercicio 1\n",
        "\n",
        "Considere um gerador linear congruente misto com os seguintes parametros:\n",
        "\n",
        "$X_{(n+1)} = (aX_n + c) \\mod m$\n",
        "\n",
        "onde $a=5$, $m=16$, $c=3$ e $X_0=7$"
      ],
      "metadata": {
        "id": "sEEuhbIBztHn"
      }
    },
    {
      "cell_type": "code",
      "source": [
        "def gerador_linear_misto(a, c, m, x0, num):\n",
        "    sequence = []\n",
        "    for i in range(num):\n",
        "        x0 = (a * x0 + c) % m\n",
        "        sequence.append(x0)\n",
        "    return sequence"
      ],
      "metadata": {
        "id": "0JaVnyJW0hkj"
      },
      "execution_count": 2,
      "outputs": []
    },
    {
      "cell_type": "code",
      "source": [
        "a = 5\n",
        "c = 3\n",
        "m = 16\n",
        "x0 = 7"
      ],
      "metadata": {
        "id": "EHO49npX1ADi"
      },
      "execution_count": 3,
      "outputs": []
    },
    {
      "cell_type": "markdown",
      "source": [
        "### a) Calcule os 5 primeiros digitos"
      ],
      "metadata": {
        "id": "mHnoyfBk0a9c"
      }
    },
    {
      "cell_type": "code",
      "source": [
        "num  = 5\n",
        "sequence = gerador_linear_misto(a, c, m, x0, num)\n",
        "_ = [print(i) for i in sequence]"
      ],
      "metadata": {
        "colab": {
          "base_uri": "https://localhost:8080/",
          "height": 0
        },
        "id": "cYuAD9fJ0Wqi",
        "outputId": "5e5fb6a2-0bfd-4efc-ef8b-1e246c211d4c"
      },
      "execution_count": 4,
      "outputs": [
        {
          "output_type": "stream",
          "name": "stdout",
          "text": [
            "6\n",
            "1\n",
            "8\n",
            "11\n",
            "10\n"
          ]
        }
      ]
    },
    {
      "cell_type": "markdown",
      "source": [
        "#### Resposta Analitica\n",
        "$X_1 = (5*7 + 3) \\mod 16 = 38 \\mod 16 = 6$\n",
        "\n",
        "$X_2 = (5*6 + 3) \\mod 16 = 33 \\mod 16 = 1$\n",
        "\n",
        "$X_3 = (5*1 + 3) \\mod 16 = 8 \\mod 16 = 8$\n",
        "\n",
        "$X_4 = (5*8 + 3) \\mod 16 = 43 \\mod 16 = 11$\n",
        "\n",
        "$X_5 = (5*11 + 3) \\mod 16 = 58 \\mod 16 = 10$"
      ],
      "metadata": {
        "id": "qdmy1SHk4TjF"
      }
    },
    {
      "cell_type": "markdown",
      "source": [
        "### b) Determine o periodo desse gerador"
      ],
      "metadata": {
        "id": "H3kl-frO3K5h"
      }
    },
    {
      "cell_type": "code",
      "execution_count": 5,
      "metadata": {
        "colab": {
          "base_uri": "https://localhost:8080/",
          "height": 0
        },
        "id": "dK-DttUyznUI",
        "outputId": "c6b66978-c7c2-4e24-cd61-8c80bdb5ba64"
      },
      "outputs": [
        {
          "output_type": "stream",
          "name": "stdout",
          "text": [
            "6\n",
            "1\n",
            "8\n",
            "11\n",
            "10\n",
            "5\n",
            "12\n",
            "15\n",
            "14\n",
            "9\n",
            "0\n",
            "3\n",
            "2\n",
            "13\n",
            "4\n",
            "7\n",
            "6\n",
            "1\n",
            "8\n",
            "11\n"
          ]
        }
      ],
      "source": [
        "num = 20\n",
        "sequence = gerador_linear_misto(a, c, m, x0, num)\n",
        "_ = [print(i) for i in sequence]"
      ]
    },
    {
      "cell_type": "markdown",
      "source": [
        "#### Resposta Analitica:\n",
        "$m$ e $c$ sao primos entre si.\n",
        "\n",
        "Os divisores de 16 sao 2, 4, 8 e 16. Portanto 2 é o único primo divisor de 16. os divores de $a-1=4$, sao 2 e 4. Assim, 2 e o primo divisor de $m$ e $a-1$.\n",
        "\n",
        "$a-1$ e um multiplo de 4, se o inteiro $m$ e multiplo de 4.\n",
        "\n",
        "Assim, o comprimendo da sequencia e maximo e igual a $m=16$"
      ],
      "metadata": {
        "id": "EdNQpcww38ZC"
      }
    },
    {
      "cell_type": "markdown",
      "source": [
        "### c) Explique se este GLC misto é adequado para aplicações criptográficas. Justifique sua resposta."
      ],
      "metadata": {
        "id": "AOZ-YGhR4K-x"
      }
    },
    {
      "cell_type": "markdown",
      "source": [
        "#### Resposta:\n",
        "O Periodo do codigo e pequeno o que torna as sequencias facil de ser quebradas, pois e possivel encontrar a funcao que gerou a sequencia. Portanto, nao e viavel utiliza-lo para criptografia."
      ],
      "metadata": {
        "id": "7zvIsqv26O7Y"
      }
    },
    {
      "cell_type": "code",
      "source": [],
      "metadata": {
        "id": "sBfObU084Oik"
      },
      "execution_count": 5,
      "outputs": []
    },
    {
      "cell_type": "code",
      "source": [],
      "metadata": {
        "id": "bA_h8F5-3tRt"
      },
      "execution_count": 5,
      "outputs": []
    },
    {
      "cell_type": "markdown",
      "source": [
        "## Exercico 2.\n",
        "Em uma central telefônica, o número médio de chamadas recebidas por minuto é igual a 3. Suponha que o número de chamadas recebidas por minuto siga uma distribuição Poisson."
      ],
      "metadata": {
        "id": "A5UJPFtxCyQD"
      }
    },
    {
      "cell_type": "code",
      "source": [
        "def poisson(lam, k):\n",
        "    return (np.exp(-lam) * lam**k) / math.factorial(k)"
      ],
      "metadata": {
        "id": "lG5E5wiiGJU3"
      },
      "execution_count": 6,
      "outputs": []
    },
    {
      "cell_type": "code",
      "source": [
        "def gen_poisson_random_variable(lamb, n_samples):\n",
        "  count=0\n",
        "  av=np.array([])\n",
        "  x=np.random.uniform(0,1,n_samples)\n",
        "  for ix in x:\n",
        "      i = 0\n",
        "      pr = np.exp(-lamb)\n",
        "      F=pr\n",
        "      while ix>=F:\n",
        "          pr=lamb/(i+1)*pr\n",
        "          F = F + pr\n",
        "          i = i + 1;\n",
        "      a1=i\n",
        "      av=np.append(av,a1)\n",
        "\n",
        "  return av"
      ],
      "metadata": {
        "id": "T5EBTClYHsUv"
      },
      "execution_count": 7,
      "outputs": []
    },
    {
      "cell_type": "code",
      "source": [
        "lamb = 3 # chamadas/minuto"
      ],
      "metadata": {
        "id": "OkEGYKJyGtJ-"
      },
      "execution_count": 8,
      "outputs": []
    },
    {
      "cell_type": "markdown",
      "source": [
        "### a) Qual é a probabilidade de que exatamente 5 chamadas sejam recebidas em um minuto específico?"
      ],
      "metadata": {
        "id": "A07tC5G1C_eM"
      }
    },
    {
      "cell_type": "code",
      "source": [
        "theo = poisson(lamb, 5)\n",
        "samples = gen_poisson_random_variable(lamb, 10000)\n",
        "simulated = np.mean(samples == 5)\n",
        "print(f'Teorica: {theo}')\n",
        "print(f'Simulada: {simulated}')"
      ],
      "metadata": {
        "id": "Pbo-cnwAC_Ld",
        "colab": {
          "base_uri": "https://localhost:8080/",
          "height": 0
        },
        "outputId": "de25bb00-8f84-47dc-a15d-c77dbf4ad0ab"
      },
      "execution_count": 9,
      "outputs": [
        {
          "output_type": "stream",
          "name": "stdout",
          "text": [
            "Teorica: 0.10081881344492448\n",
            "Simulada: 0.0988\n"
          ]
        }
      ]
    },
    {
      "cell_type": "markdown",
      "source": [
        "#### Resposta Analitica:\n",
        "\n",
        "$\\lambda=3$ chamadas/minuto\n",
        "\n",
        "$P(x=5) = e^{-3} 3^5 / 5! = 0.1$"
      ],
      "metadata": {
        "id": "VfveRKZuHdXb"
      }
    },
    {
      "cell_type": "markdown",
      "source": [
        "### b) Qual é a probabilidade de que no máximo 2 chamadas sejam recebidas em um minuto específico?"
      ],
      "metadata": {
        "id": "wjfibqS5IKqd"
      }
    },
    {
      "cell_type": "code",
      "source": [
        "# calcular todas a probabilidades de 0, 1, 2\n",
        "probs = [poisson(lamb, i) for i in range(3)]\n",
        "theo = np.sum(probs)\n",
        "samples = gen_poisson_random_variable(lamb, 10000)\n",
        "simulated = np.mean(samples <= 2)\n",
        "print(f'Teorica: {theo}')\n",
        "print(f'Simulada: {simulated}')"
      ],
      "metadata": {
        "id": "lCvppr1SC5lR",
        "colab": {
          "base_uri": "https://localhost:8080/",
          "height": 0
        },
        "outputId": "b3dbebaf-14ab-463a-c433-be15749249ba"
      },
      "execution_count": 10,
      "outputs": [
        {
          "output_type": "stream",
          "name": "stdout",
          "text": [
            "Teorica: 0.42319008112684353\n",
            "Simulada: 0.4256\n"
          ]
        }
      ]
    },
    {
      "cell_type": "markdown",
      "source": [
        "#### Resposta Analitica:\n",
        "$P(x=0) = e^{-3} 3^0 / 0! = 0.049$\n",
        "\n",
        "$P(x=1) = e^{-3} 3^1 / 1! = 0.149$\n",
        "\n",
        "$P(x=2) = e^{-3} 3^2 / 2! = 0.224$\n",
        "\n",
        "$P(x\\leq2) = P(x=0) + P(x=1) + P(x=2) = 0.423$"
      ],
      "metadata": {
        "id": "AMr8A7YsIoqU"
      }
    },
    {
      "cell_type": "markdown",
      "source": [],
      "metadata": {
        "id": "oHOGogcaJSMW"
      }
    },
    {
      "cell_type": "markdown",
      "source": [
        "## Exercicio 3:\n",
        "\n",
        "Uma prova objetiva possui 10 questões, e cada questão apresenta 4 alternativas, das quais\n",
        "apenas uma é correta. Um aluno despreparado responde aleatoriamente todas as questões,\n",
        "assinalando uma alternativa por questão.\n",
        "Considere que X seja a variável aleatória que representa o número de questões acertadas pelo\n",
        "aluno."
      ],
      "metadata": {
        "id": "sNZt0vFmJggZ"
      }
    },
    {
      "cell_type": "code",
      "source": [
        "def binomial(n, p, k):\n",
        "    return math.comb(n, k) * p**k * (1-p)**(n-k)\n",
        "\n",
        "def gen_binomial_random_variable(n, q, n_samples):\n",
        "  c = q/(1-q)\n",
        "  av=np.array([])\n",
        "  count=0\n",
        "  x=np.random.uniform(0,1,n_samples)\n",
        "  for ix in x:\n",
        "      i = 0\n",
        "      pr = pow((1 - q),n)\n",
        "      F = pr\n",
        "      while ix>=F:\n",
        "          pr = (c * (n - i) / (i + 1))* pr;\n",
        "          F = F + pr;\n",
        "          i = i + 1;\n",
        "      a1=i\n",
        "      av=np.append(av,a1)\n",
        "\n",
        "  return av"
      ],
      "metadata": {
        "id": "9Hpp2HpuJ6e_"
      },
      "execution_count": 11,
      "outputs": []
    },
    {
      "cell_type": "code",
      "source": [
        "q = 0.25 # probabilidade de acertar uma questão"
      ],
      "metadata": {
        "id": "R6V3DeUuKhyj"
      },
      "execution_count": 12,
      "outputs": []
    },
    {
      "cell_type": "markdown",
      "source": [
        "### a) Qual é a probabilidade de o aluno acertar exatamente 3 questões?\n"
      ],
      "metadata": {
        "id": "4BbfXcMoJljC"
      }
    },
    {
      "cell_type": "code",
      "source": [
        "theo = binomial(10, q, 3)\n",
        "samples = gen_binomial_random_variable(10, q, 10000)\n",
        "simulated = np.mean(samples == 3)\n",
        "print(f'Teorica: {theo}')\n",
        "print(f'Simulada: {simulated}')"
      ],
      "metadata": {
        "colab": {
          "base_uri": "https://localhost:8080/",
          "height": 0
        },
        "id": "UmcrzR7eJwMi",
        "outputId": "6a0ba315-4408-4684-c8ec-b0c3aa471cd5"
      },
      "execution_count": 13,
      "outputs": [
        {
          "output_type": "stream",
          "name": "stdout",
          "text": [
            "Teorica: 0.25028228759765625\n",
            "Simulada: 0.248\n"
          ]
        }
      ]
    },
    {
      "cell_type": "markdown",
      "source": [
        "#### Resposta Analitica\n",
        "$P(x=3) = {10 \\choose 3} (0.25)^3 (0.75)^7 = 0.25$"
      ],
      "metadata": {
        "id": "IDyDZforKsNP"
      }
    },
    {
      "cell_type": "markdown",
      "source": [
        "### b) Qual é a probabilidade de ele acertar no máximo 2 questões?"
      ],
      "metadata": {
        "id": "fLko_BtHJnlR"
      }
    },
    {
      "cell_type": "code",
      "source": [
        "theo = np.sum([binomial(10, q, i) for i in range(3)])\n",
        "simulated = np.mean(samples <= 2)\n",
        "print(f'Teorica: {theo}')\n",
        "print(f'Simulada: {simulated}')"
      ],
      "metadata": {
        "colab": {
          "base_uri": "https://localhost:8080/",
          "height": 0
        },
        "id": "CgnnZrc9LUKe",
        "outputId": "b77e9c99-fdcf-436a-dabd-4e7e124f89c4"
      },
      "execution_count": 14,
      "outputs": [
        {
          "output_type": "stream",
          "name": "stdout",
          "text": [
            "Teorica: 0.5255928039550781\n",
            "Simulada: 0.525\n"
          ]
        }
      ]
    },
    {
      "cell_type": "markdown",
      "source": [
        "#### Resposta Analitica\n",
        "\n",
        "$P(x=0) = {10 \\choose 0} (0.25)^0 (0.75)^10 = 0.25 = 0.056$\n",
        "\n",
        "$P(x=1) = {10 \\choose 1} (0.25)^1 (0.75)^9 = 0.25d = 0.187$\n",
        "\n",
        "$P(x=2) = {10 \\choose 2} (0.25)^2 (0.75)^8 = 0.25 = 0.281$\n",
        "\n",
        "$P(x\\leq2) = P(x=0) + P(x=1) + P(x=2) = 0.525$"
      ],
      "metadata": {
        "id": "QPjleH2XLcba"
      }
    },
    {
      "cell_type": "markdown",
      "source": [
        "### c) Determine a média e o desvio padrão da variável aleatória X."
      ],
      "metadata": {
        "id": "9wRLozUWJsPC"
      }
    },
    {
      "cell_type": "code",
      "source": [
        "media = 10*q\n",
        "desvio = math.sqrt(10*q*(1-q))\n",
        "print(f'Media: {media}')\n",
        "print(f'Desvio: {desvio}')"
      ],
      "metadata": {
        "colab": {
          "base_uri": "https://localhost:8080/",
          "height": 0
        },
        "id": "frvb4_K8MAbs",
        "outputId": "461fc4b7-db7d-4a8f-bc25-0abdd6fe4388"
      },
      "execution_count": 15,
      "outputs": [
        {
          "output_type": "stream",
          "name": "stdout",
          "text": [
            "Media: 2.5\n",
            "Desvio: 1.3693063937629153\n"
          ]
        }
      ]
    },
    {
      "cell_type": "code",
      "source": [
        "media_sim = np.mean(samples)\n",
        "desvio_sim = np.std(samples)\n",
        "print(f'Media: {media_sim}')\n",
        "print(f'Desvio: {desvio_sim}')"
      ],
      "metadata": {
        "colab": {
          "base_uri": "https://localhost:8080/",
          "height": 0
        },
        "id": "aanCYU5QMVcn",
        "outputId": "bf151076-8610-43b4-c563-8883c5d1c4d0"
      },
      "execution_count": 16,
      "outputs": [
        {
          "output_type": "stream",
          "name": "stdout",
          "text": [
            "Media: 2.496\n",
            "Desvio: 1.368570056664985\n"
          ]
        }
      ]
    },
    {
      "cell_type": "markdown",
      "source": [
        "#### Resposta Analitica\n",
        "$\\mu = nq = 10*0.25 = 2.5$\n",
        "\n",
        "$\\sigma = \\sqrt{nq(1-q)} = 1.36$"
      ],
      "metadata": {
        "id": "4onw1EwrMYdc"
      }
    },
    {
      "cell_type": "markdown",
      "source": [
        "## Exercicio 4\n",
        "\n",
        "Se ocorrerem falhas de energia elétrica de acordo com uma distribuição de Poisson com\n",
        "uma média de 6 falhas a cada duas semanas, calcule a probabilidade de que haverá ao menos\n",
        "3 falhas durante uma semana específica. Traçar o histograma da variável analisada."
      ],
      "metadata": {
        "id": "UfVIytcyM7d7"
      }
    },
    {
      "cell_type": "code",
      "source": [
        "lamb = 3"
      ],
      "metadata": {
        "id": "GU9DlXxTNAnK"
      },
      "execution_count": 17,
      "outputs": []
    },
    {
      "cell_type": "code",
      "source": [
        "prob_3_ou_menos = 1 - poisson(lamb, 0) - poisson(lamb, 1) - poisson(lamb, 2)\n",
        "print(f'Probabilidade de haver pelo menos 3 falhas: {prob_3_ou_menos}')"
      ],
      "metadata": {
        "colab": {
          "base_uri": "https://localhost:8080/",
          "height": 0
        },
        "id": "3m_Q6PSeN1Va",
        "outputId": "57abf7dc-631a-46d9-d564-be8a40f9e3e4"
      },
      "execution_count": 18,
      "outputs": [
        {
          "output_type": "stream",
          "name": "stdout",
          "text": [
            "Probabilidade de haver pelo menos 3 falhas: 0.5768099188731565\n"
          ]
        }
      ]
    },
    {
      "cell_type": "code",
      "source": [
        "samples = gen_poisson_random_variable(lamb, 10000)\n",
        "simulated = np.mean(samples >= 3)\n",
        "print(f'Probabilidade de haver pelo menos 3 falhas: {simulated}')"
      ],
      "metadata": {
        "colab": {
          "base_uri": "https://localhost:8080/",
          "height": 0
        },
        "id": "CZIRp4WoN2UO",
        "outputId": "6ac731f9-9f52-4b01-965e-499204437fab"
      },
      "execution_count": 19,
      "outputs": [
        {
          "output_type": "stream",
          "name": "stdout",
          "text": [
            "Probabilidade de haver pelo menos 3 falhas: 0.5754\n"
          ]
        }
      ]
    },
    {
      "cell_type": "markdown",
      "source": [
        "#### Resposta Analitica:\n",
        "$P(x=0) = e^{-3} 3^0 / 0! = 0.049$\n",
        "\n",
        "$P(x=1) = e^{-3} 3^1 / 1! = 0.149$\n",
        "\n",
        "$P(x=2) = e^{-3} 3^2 / 2! = 0.224$\n",
        "\n",
        "$P(x\\geq3) = 1 - P(x=0) + P(x=1) + P(x=2) =1 - 0.423 = 0.576$"
      ],
      "metadata": {
        "id": "ikel0ekHN7iC"
      }
    },
    {
      "cell_type": "code",
      "source": [
        "samples = gen_poisson_random_variable(lamb, 10000)\n",
        "_ = plt.hist(samples, bins=20)"
      ],
      "metadata": {
        "colab": {
          "base_uri": "https://localhost:8080/",
          "height": 430
        },
        "id": "UOhtZ4nNS0PS",
        "outputId": "0fae7665-9842-45d1-daa3-369ddabf69f3"
      },
      "execution_count": 20,
      "outputs": [
        {
          "output_type": "display_data",
          "data": {
            "text/plain": [
              "<Figure size 640x480 with 1 Axes>"
            ],
            "image/png": "[encoded data removed]"
          },
          "metadata": {}
        }
      ]
    },
    {
      "cell_type": "markdown",
      "source": [
        "## Exercicio 5\n",
        "\n",
        "O tempo (em minutos) entre chegadas sucessivas de clientes a um caixa eletrônico pode ser\n",
        "descrito por uma variável aleatória com distribuição exponencial, cuja média é de 2 minutos"
      ],
      "metadata": {
        "id": "HHxuwt-LOk2C"
      }
    },
    {
      "cell_type": "code",
      "source": [
        "def cdf_exp(lam, x):\n",
        "    return 1 - np.exp(-lam * x)\n",
        "\n",
        "def gen_exponential_random_variable(lam, n_samples):\n",
        "  x=np.random.uniform(0,1,n_samples)\n",
        "  Xexp=-np.log(x)/lam\n",
        "  return Xexp"
      ],
      "metadata": {
        "id": "EMyShspPPlai"
      },
      "execution_count": 21,
      "outputs": []
    },
    {
      "cell_type": "markdown",
      "source": [
        "### a) Qual é o parâmetro (λ) dessa distribuição exponencial?"
      ],
      "metadata": {
        "id": "9WXG_UanQSD7"
      }
    },
    {
      "cell_type": "markdown",
      "source": [
        "#### Resposta:\n",
        "\n",
        "$\\mu = 2$\n",
        "\n",
        "$\\lambda = 1/\\mu = 0.5$"
      ],
      "metadata": {
        "id": "_eEJXuwOQYhM"
      }
    },
    {
      "cell_type": "code",
      "source": [
        "lamb = 1 / 2"
      ],
      "metadata": {
        "id": "cP8lMWDKQmHa"
      },
      "execution_count": 22,
      "outputs": []
    },
    {
      "cell_type": "markdown",
      "source": [
        "### b) Qual é a probabilidade de que o tempo de espera até a chegada do próximo cliente seja inferior a 1 minuto?"
      ],
      "metadata": {
        "id": "A8yPttTeQq9P"
      }
    },
    {
      "cell_type": "code",
      "source": [
        "theo = cdf_exp(lamb, 1)\n",
        "samples = gen_exponential_random_variable(lamb, 10000)\n",
        "simulated = np.mean(samples < 1)\n",
        "print(f'Teorica: {theo}')\n",
        "print(f'Simulada: {simulated}')"
      ],
      "metadata": {
        "colab": {
          "base_uri": "https://localhost:8080/",
          "height": 0
        },
        "id": "11bhMmmyQRTq",
        "outputId": "f20250bb-7203-426d-ccee-08b6da57028f"
      },
      "execution_count": 23,
      "outputs": [
        {
          "output_type": "stream",
          "name": "stdout",
          "text": [
            "Teorica: 0.3934693402873666\n",
            "Simulada: 0.3992\n"
          ]
        }
      ]
    },
    {
      "cell_type": "markdown",
      "source": [
        "#### Resposta Analitica\n",
        "\n",
        "$P(x\\leq1) = F(x) = 1 - e^{-0.5} = 0.393$"
      ],
      "metadata": {
        "id": "WOCiX4wlRv2U"
      }
    },
    {
      "cell_type": "markdown",
      "source": [
        "### c) Qual é a probabilidade de que o tempo de espera até a chegada do próximo cliente seja superior a 4 minutos?"
      ],
      "metadata": {
        "id": "2b-lu_PTSKdU"
      }
    },
    {
      "cell_type": "code",
      "source": [
        "theo = 1 - cdf_exp(lamb, 4)\n",
        "samples = gen_exponential_random_variable(lamb, 10000)\n",
        "simulated = np.mean(samples > 4)\n",
        "print(f'Teorica: {theo}')\n",
        "print(f'Simulada: {simulated}')"
      ],
      "metadata": {
        "colab": {
          "base_uri": "https://localhost:8080/",
          "height": 0
        },
        "id": "NMtsEz9JQy0a",
        "outputId": "64c40f74-ebc9-414d-cba7-8c01e53e3e6e"
      },
      "execution_count": 24,
      "outputs": [
        {
          "output_type": "stream",
          "name": "stdout",
          "text": [
            "Teorica: 0.1353352832366127\n",
            "Simulada: 0.1341\n"
          ]
        }
      ]
    },
    {
      "cell_type": "markdown",
      "source": [
        "#### Resposta Analitica\n",
        "\n",
        "$P(x\\leq4) = 1 - F(4) = e^{-0.5*4} = 0.135$"
      ],
      "metadata": {
        "id": "KxjO0nHZSVHp"
      }
    },
    {
      "cell_type": "markdown",
      "source": [
        "## Exercico 6\n",
        "\n",
        "A distribuição discreta geométrica conta o número de tentativas até o primeiro sucesso. A\n",
        "pmf é dada por f(x)=p(1-p)x-1, onde p representa a probabilidade de sucesso e x o numero de\n",
        "tentativas. Fazer um algoritmo para a geração das variáveis aleatórias geométricas."
      ],
      "metadata": {
        "id": "Tlsl-W9cTW53"
      }
    },
    {
      "cell_type": "markdown",
      "source": [
        "### Algoritmo\n",
        "\n",
        "$F(x) = 1 - (1-p)^{x}$\n",
        "\n",
        "$(1-p)^{x} = u-1$\n",
        "\n",
        "$x = \\frac{log(1-U)}{log(1-p)}$\n",
        "\n",
        "$x = ceil{ {\\frac{log(U)}{log(1-p)}} }$"
      ],
      "metadata": {
        "id": "Dz_Qo0kBTjx8"
      }
    },
    {
      "cell_type": "code",
      "source": [
        "def gen_geom_random_variable(p, n_samples):\n",
        "    U = np.random.uniform(0, 1, n_samples)\n",
        "    X = np.ceil(np.log(U) / np.log(1 - p)).astype(int)\n",
        "    return X\n",
        "\n",
        "def geom(p, k):\n",
        "    return p * (1 - p)**(k-1)"
      ],
      "metadata": {
        "id": "O5hwe8QRTjCC"
      },
      "execution_count": 25,
      "outputs": []
    },
    {
      "cell_type": "markdown",
      "source": [
        "### Calcular\n",
        "\n",
        "Um jogador participa de um jogo no qual ele lança um dado justo (equilibrado, com 6\n",
        "faces numeradas de 1 a 6). Ele ganha o jogo assim que o número \"5\" aparecer pela\n",
        "primeira vez. Considere que os lançamentos são independentes.\n",
        "\n",
        "Seja X a variável aleatória que representa o número do lançamento no qual o jogador\n",
        "obtém pela primeira vez o número \"5\"."
      ],
      "metadata": {
        "id": "WdQus4PxWbrb"
      }
    },
    {
      "cell_type": "code",
      "source": [
        "# dado com 6 faces, chance de obter 5\n",
        "p = 1/6"
      ],
      "metadata": {
        "id": "j9U8a6W1STS0"
      },
      "execution_count": 26,
      "outputs": []
    },
    {
      "cell_type": "markdown",
      "source": [
        "### a) Qual é a probabilidade de que o jogador ganhe o jogo exatamente no terceiro lançamento?"
      ],
      "metadata": {
        "id": "Vtzr7TlpWx0Y"
      }
    },
    {
      "cell_type": "code",
      "source": [
        "theo = geom(p, 3)\n",
        "samples = gen_geom_random_variable(p, 10000)\n",
        "simulated = np.mean(samples == 3)\n",
        "print(f'Teorica: {theo}')\n",
        "print(f'Simulada: {simulated}')"
      ],
      "metadata": {
        "colab": {
          "base_uri": "https://localhost:8080/",
          "height": 0
        },
        "id": "Ye8NHaloWw71",
        "outputId": "6919f696-2416-4c99-de30-10a09ae832a4"
      },
      "execution_count": 27,
      "outputs": [
        {
          "output_type": "stream",
          "name": "stdout",
          "text": [
            "Teorica: 0.11574074074074076\n",
            "Simulada: 0.1114\n"
          ]
        }
      ]
    },
    {
      "cell_type": "markdown",
      "source": [
        "#### Resposta Analitica\n",
        "\n",
        "$P(x=3) = (1/6)*(1-1/6)^{2} = 0.115$"
      ],
      "metadata": {
        "id": "kNGquNJpZKj2"
      }
    },
    {
      "cell_type": "markdown",
      "source": [
        "### b) Qual é a probabilidade de que ele precise lançar o dado pelo menos 4 vezes para ganhar o jogo?"
      ],
      "metadata": {
        "id": "v5FGyUwAZkuh"
      }
    },
    {
      "cell_type": "code",
      "source": [
        "def geom_cdf(p, k):\n",
        "    return 1 - (1 - p)**k"
      ],
      "metadata": {
        "id": "zNT7p0xBZ2sF"
      },
      "execution_count": 28,
      "outputs": []
    },
    {
      "cell_type": "code",
      "source": [
        "theo = geom_cdf(p, 4)\n",
        "samples = gen_geom_random_variable(p, 10000)\n",
        "simulated = np.mean(samples >= 4)\n",
        "\n",
        "print(f'Teorica: {theo}')\n",
        "print(f'Simulada: {simulated}')"
      ],
      "metadata": {
        "colab": {
          "base_uri": "https://localhost:8080/",
          "height": 0
        },
        "id": "uPu4M4WOXM_e",
        "outputId": "e6419411-4970-4740-fcf8-7cbad43624e6"
      },
      "execution_count": 29,
      "outputs": [
        {
          "output_type": "stream",
          "name": "stdout",
          "text": [
            "Teorica: 0.5177469135802468\n",
            "Simulada: 0.5796\n"
          ]
        }
      ]
    },
    {
      "cell_type": "markdown",
      "source": [
        "#### Resposta Analitica\n",
        "\n",
        "$P(x \\geq 4) = 1 - F(x) = (1-1/6)^{4} = 0.517$"
      ],
      "metadata": {
        "id": "DVtgBFqBaCXf"
      }
    },
    {
      "cell_type": "markdown",
      "source": [
        "### c) Calcule a média e o desvio padrão de X."
      ],
      "metadata": {
        "id": "EhzULjXvaYGc"
      }
    },
    {
      "cell_type": "code",
      "source": [
        "media = 1/p\n",
        "desvio = math.sqrt((1-p))/p\n",
        "print(f'Media: {media}')\n",
        "print(f'Desvio: {desvio}')"
      ],
      "metadata": {
        "colab": {
          "base_uri": "https://localhost:8080/",
          "height": 0
        },
        "id": "JQJVaKf5aASv",
        "outputId": "51c9e745-0f74-4534-c987-27bfcb0914e7"
      },
      "execution_count": 30,
      "outputs": [
        {
          "output_type": "stream",
          "name": "stdout",
          "text": [
            "Media: 6.0\n",
            "Desvio: 5.477225575051662\n"
          ]
        }
      ]
    },
    {
      "cell_type": "code",
      "source": [
        "media_sim = np.mean(samples)\n",
        "desvio_sim = np.std(samples)\n",
        "print(f'Media: {media_sim}')\n",
        "print(f'Desvio: {desvio_sim}')"
      ],
      "metadata": {
        "colab": {
          "base_uri": "https://localhost:8080/",
          "height": 0
        },
        "id": "wzFyIDjEamx8",
        "outputId": "81a6fb01-c1fa-47f1-9335-0bb3af512c01"
      },
      "execution_count": 31,
      "outputs": [
        {
          "output_type": "stream",
          "name": "stdout",
          "text": [
            "Media: 5.9931\n",
            "Desvio: 5.3588853682459\n"
          ]
        }
      ]
    },
    {
      "cell_type": "markdown",
      "source": [
        "#### Resposta Analitica\n",
        "\n",
        "$\\mu = 1/p = 6$\n",
        "\n",
        "$\\sigma = \\sqrt{1-p}/p = 5.47$"
      ],
      "metadata": {
        "id": "t13hm-5HawGQ"
      }
    },
    {
      "cell_type": "markdown",
      "source": [
        "## Exercicio 7\n",
        "\n",
        "7) Utilizando o método da inversa gerar amostras para a distribuição\n",
        "\n",
        "$f(x) = 3 x^2 \\quad 0\\leq x \\leq 1$\n",
        "Plotar a pdf analitica e o histograma normalizado."
      ],
      "metadata": {
        "id": "0UGpj-aObQtM"
      }
    },
    {
      "cell_type": "markdown",
      "source": [
        "### Resposta:\n",
        "\n",
        "$ F(x) = \\int_{0}^{x} f(x) dx $\n",
        "\n",
        "$ F(x) = x^3 $\n",
        "\n",
        "$ u = x^3 $\n",
        "\n",
        "$ x = u^{1/3}$\n"
      ],
      "metadata": {
        "id": "RmphvpWVbm4c"
      }
    },
    {
      "cell_type": "code",
      "source": [
        "def gen_inverse_transform_random_variable(n_samples):\n",
        "    u = np.random.uniform(0, 1, n_samples)\n",
        "    x = u**(1/3)\n",
        "    return x"
      ],
      "metadata": {
        "id": "Babn_lBRbmTJ"
      },
      "execution_count": 32,
      "outputs": []
    },
    {
      "cell_type": "code",
      "source": [
        "samples = gen_inverse_transform_random_variable(10000)\n",
        "\n",
        "x_ = np.linspace(0, 1, 100)\n",
        "y_ = 3 * x_**2\n",
        "fig = plt.figure()\n",
        "plt.plot(x_, y_)\n",
        "plt.hist(samples, bins=20, density=True)\n",
        "plt.show()"
      ],
      "metadata": {
        "colab": {
          "base_uri": "https://localhost:8080/",
          "height": 430
        },
        "id": "zS6P11HuaobE",
        "outputId": "70a52baf-9c2a-48e8-baee-4d0fc9d79e83"
      },
      "execution_count": 33,
      "outputs": [
        {
          "output_type": "display_data",
          "data": {
            "text/plain": [
              "<Figure size 640x480 with 1 Axes>"
            ],
            "image/png": "[encoded data removed]"
          },
          "metadata": {}
        }
      ]
    },
    {
      "cell_type": "markdown",
      "source": [
        "## Exercicio 8\n",
        "\n",
        "Considere uma variável aleatória contínua X cuja função densidade de probabilidade (pdf) é\n",
        "dada por:\n",
        "\n",
        "$f(x) = 3 x^2 \\quad 0\\leq x \\leq 1$\n",
        "\n",
        "\n",
        "e f(x)=0, caso contrário.\n",
        "Suponha que você queira gerar valores dessa variável usando o método da aceitação-rejeição."
      ],
      "metadata": {
        "id": "dDFzDU7DctgT"
      }
    },
    {
      "cell_type": "markdown",
      "source": [
        "### a) Verifique que f(x) é uma densidade válida"
      ],
      "metadata": {
        "id": "DuRaPwpddgWR"
      }
    },
    {
      "cell_type": "markdown",
      "source": [
        "#### Resposta\n",
        "\n",
        "$ \\int_{0}^{1} f(x) dx = \\int_{0}^{1}  x^2 dx 3 = 1^3 - 0^1 = 1$\n",
        "\n",
        "Portanto, a distribuicao e valida."
      ],
      "metadata": {
        "id": "tQCdZbrEc-R0"
      }
    },
    {
      "cell_type": "markdown",
      "source": [
        "### b) Encontre uma constante c adequada para a aplicação do método da aceitação-rejeição, considerando a distribuição candidata escolhida."
      ],
      "metadata": {
        "id": "UcFFlwmqdlHY"
      }
    },
    {
      "cell_type": "markdown",
      "source": [
        "#### Resposta\n",
        "\n",
        "$g(x) = 1 \\quad 0\\leq x \\leq 1$\n",
        "\n",
        "$c = max(\\frac{f(x)}{g(x)}) = max(3 x^2)$\n",
        "\n",
        "$c = 3$"
      ],
      "metadata": {
        "id": "0O9VHh9CeGRE"
      }
    },
    {
      "cell_type": "markdown",
      "source": [
        "### c)  Explique o procedimento passo a passo para gerar uma observação de X usando esse método. Plotar a pdf analitica e o histograma normalizado."
      ],
      "metadata": {
        "id": "k5ax18i-fUap"
      }
    },
    {
      "cell_type": "markdown",
      "source": [
        "#### Resposta:\n",
        "\n",
        "(1)Gerar uma variavel aleatdoria U1 de uma distribuicsao conhecida\n",
        "g(x) = 1;\n",
        "\n",
        "(2) Gerar U2 independente de U1;\n",
        "\n",
        "(3) Se $U \\leq \\frac{f(u1)}{c g(u1)} $.\n",
        "Entao aceita-se a amostra, senao\n",
        "rejeita e volta ao passo 1"
      ],
      "metadata": {
        "id": "fa842mIyfblZ"
      }
    },
    {
      "cell_type": "code",
      "source": [
        "def gen_accept(n_samples):\n",
        "  samples = []\n",
        "  while len(samples) < n_samples:\n",
        "      U1 = np.random.uniform(0, 1)\n",
        "      U2 = np.random.uniform(0, 1)\n",
        "      if U2 <= U1 ** 2:\n",
        "          samples.append(U1)\n",
        "  return np.array(samples)"
      ],
      "metadata": {
        "id": "JA3mNL5Gco_T"
      },
      "execution_count": 34,
      "outputs": []
    },
    {
      "cell_type": "code",
      "source": [
        "samples = gen_accept(10000)\n",
        "\n",
        "x_ = np.linspace(0, 1, 100)\n",
        "y_ = 3 * x_**2\n",
        "fig = plt.figure()\n",
        "plt.plot(x_, y_)\n",
        "plt.hist(samples, bins=20, density=True)\n",
        "plt.show()"
      ],
      "metadata": {
        "colab": {
          "base_uri": "https://localhost:8080/",
          "height": 430
        },
        "id": "4eKB8SdiggFU",
        "outputId": "84e072a2-98d9-427f-fbdd-916ed9497ca5"
      },
      "execution_count": 35,
      "outputs": [
        {
          "output_type": "display_data",
          "data": {
            "text/plain": [
              "<Figure size 640x480 with 1 Axes>"
            ],
            "image/png": "[encoded data removed]"
          },
          "metadata": {}
        }
      ]
    },
    {
      "cell_type": "code",
      "source": [],
      "metadata": {
        "id": "wDO0OlK2hTQ7"
      },
      "execution_count": 35,
      "outputs": []
    }
  ]
}