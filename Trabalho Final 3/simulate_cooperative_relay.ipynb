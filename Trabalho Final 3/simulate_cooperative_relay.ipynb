{
  "nbformat": 4,
  "nbformat_minor": 0,
  "metadata": {
    "colab": {
      "provenance": [],
      "collapsed_sections": [
        "kYIau8IR0Buf"
      ]
    },
    "kernelspec": {
      "name": "python3",
      "display_name": "Python 3"
    },
    "language_info": {
      "name": "python"
    }
  },
  "cells": [
    {
      "cell_type": "markdown",
      "source": [
        "# Problema:\n",
        "\n",
        "O nó relay (retransmissor) de uma rede de comunicação cooperativa possui uma fila com buffer com capacidade para armazenar N pacotes (incluindo o pacote que está em atendimento, ou seja, sendo transmitido pelo relay). Os pacotes recebidos pelo relay são colocados na fila e transmitidos da seguinte forma: se houver um único pacote na fila ele é transmitido imediatamente; se houver dois ou mais pacotes na fila, o relay faz uma operação ou-exclusivo (XOR) entre os dois pacotes, transmite o pacote resultante da operação XOR e retira os dois pacotes utilizados para fazer o XOR da fila. A taxa de chegada de pacotes na fila do relay é λ pacotes/segundo. O enlace de saída do nó relay permite a transmissão de μ pacotes/segundo."
      ],
      "metadata": {
        "id": "kYIau8IR0Buf"
      }
    },
    {
      "cell_type": "markdown",
      "source": [
        "O modelo de lote parcial considera uma fila markoviana com um único servidor e atendimento em lotes. Especificamente, assumimos que os clientes chegam segundo um processo de Poisson ordinário, os tempos de serviço são exponenciais, há um único servidor, os clientes são atendidos na ordem de chegada (FCFS), não há restrição na capacidade de espera, e os clientes são atendidos $K$ de cada vez.\n",
        "O servidor pode processar lotes parciais de tamanho máximo $K$. Os clientes são atendidos $K$ de cada vez, mas agora, se houver menos de $K$ clientes no sistema, o servidor inicia o atendimento desses clientes.\n",
        "Além disso, quando há menos de $K$ clientes em atendimento, novas chegadas entram imediatamente no atendimento até o limite $K$ e finalizam junto com os demais, independentemente do tempo de entrada no serviço.\n",
        "O tempo necessário para o atendimento de qualquer lote é uma variável aleatória com distribuição exponencial de média $1/\\mu$, independentemente de o lote estar completo com tamanho $K$ ou não."
      ],
      "metadata": {
        "id": "8uJvVVx_Urmt"
      }
    },
    {
      "cell_type": "code",
      "execution_count": null,
      "metadata": {
        "id": "3Jxik1rIzvxk"
      },
      "outputs": [],
      "source": [
        "import numpy as np\n",
        "import matplotlib.pyplot as plt\n",
        "import pandas as pd\n",
        "from matplotlib.ticker import MaxNLocator"
      ]
    },
    {
      "cell_type": "markdown",
      "source": [
        "# Implementação da Função"
      ],
      "metadata": {
        "id": "Ey2C0ITvsFHK"
      }
    },
    {
      "cell_type": "code",
      "source": [
        "def simulate_cooperative_relay(\n",
        "        lamb: float = 10.,\n",
        "        mu: float = 12.,\n",
        "        max_buffer_size: int = 5,\n",
        "        max_departures: int = 50000,\n",
        "        xor_selection: bool = True,\n",
        "        seed: int = 42\n",
        "    ) -> dict:\n",
        "\n",
        "    \"\"\"\n",
        "    Simula um nó relay com buffer limitado em uma rede de comunicação cooperativa.\n",
        "\n",
        "    O relay opera da seguinte forma:\n",
        "    - Se houver apenas 1 pacote na fila, ele é transmitido diretamente.\n",
        "    - Se houver 2 ou mais pacotes e xor_selection for True, realiza-se uma operação XOR\n",
        "      entre os dois primeiros pacotes da fila e transmite-se o resultado, removendo ambos da fila.\n",
        "    - Se o buffer estiver cheio no momento de uma nova chegada, o pacote é descartado (bloqueado).\n",
        "\n",
        "    O processo de chegadas é modelado como um processo de Poisson com taxa `lamb`,\n",
        "    e o processo de transmissões também segue Poisson com taxa `mu`.\n",
        "\n",
        "    Args:\n",
        "        lamb (float): Taxa de chegada de pacotes (λ), em pacotes/segundo.\n",
        "        mu (float): Taxa de atendimento/transmissão (μ), em pacotes/segundo.\n",
        "        max_buffer_size (int): Capacidade total do buffer (inclusive o pacote em atendimento).\n",
        "        max_departures (int): Número máximo de partidas (transmissões) a serem simuladas.\n",
        "        xor_selection (bool): Se True, permite operação XOR entre dois pacotes na fila.\n",
        "        seed (int): Semente do gerador de números aleatórios para reprodutibilidade.\n",
        "\n",
        "    Returns:\n",
        "        dict: Dicionário com métricas de desempenho do sistema contendo:\n",
        "            - 'average_system_time' (float): Tempo médio no sistema por pacote.\n",
        "            - 'average_system_occupancy' (float): Ocupação média do sistema (fila + servidor).\n",
        "            - 'blck_ratio' (float): Proporção de pacotes bloqueados em relação ao total de chegadas.\n",
        "    \"\"\"\n",
        "\n",
        "    from statistics import mean\n",
        "\n",
        "    # inicialização de variáveis\n",
        "    t = 0. # tempo inicial\n",
        "    len_q = 0 # número de elementos na fila\n",
        "    server_busy = False # estado inicial do servidor (desocupado)\n",
        "    j = 0 # número de chegas\n",
        "    k = 0 # número de partidas\n",
        "    blocks = 0 # contador de bloqueios\n",
        "\n",
        "    RNG = np.random.default_rng(seed) # gerador de números aleatórios do numpy\n",
        "\n",
        "    # listas para armazenar valores\n",
        "    t_arrival = [] # tempos de chegada já atendidos diretamente\n",
        "    t_system = [] # tempos no sistema\n",
        "    t_buffer = [] # fila (buffer) de chegadas que aguardam atendimento\n",
        "    system_state = [] # guarda tamanho do sistema\n",
        "    times = [] # armazena os tempos de sistema\n",
        "\n",
        "    # funções auxiliares\n",
        "    def gen_arrival(t):\n",
        "        '''função auxiliar para gerar tempos de chegada'''\n",
        "        return t + RNG.exponential(1/lamb)\n",
        "\n",
        "    def gen_departure(t):\n",
        "        '''função auxiliar para gerar tempos de partida'''\n",
        "        return t + RNG.exponential(1/mu)\n",
        "\n",
        "    # gera os primeiros eventos\n",
        "    next_arrival = gen_arrival(t) # próxima chegada\n",
        "    next_departure = np.inf # não há partida inicialmente\n",
        "\n",
        "    # loop principal\n",
        "    while (k < max_departures): # limitado ao número de partidas\n",
        "\n",
        "        times.append(t)\n",
        "        system_state.append(len_q + int(server_busy))\n",
        "\n",
        "        if next_arrival < next_departure: # evento de chegada\n",
        "\n",
        "            t = next_arrival # atualiza tempo atual\n",
        "            j += 1 # incrementa número de chegadas\n",
        "\n",
        "            if server_busy: # servidor ocupado\n",
        "\n",
        "                if len_q < max_buffer_size: # se houver espaço no buffer\n",
        "\n",
        "                    len_q += 1 # incrementa fila\n",
        "                    t_buffer.append(t) # armazena tempo de chegada no buffer\n",
        "\n",
        "                else: # buffer cheio\n",
        "\n",
        "                    blocks += 1 # incrementa bloqueios\n",
        "\n",
        "            else: # servidor desocupado\n",
        "                server_busy = True # ocupa o servidor\n",
        "                t_arrival.append(t) # armazena chegada atendida diretamente\n",
        "                next_departure = gen_departure(t) # gera próxima partida\n",
        "\n",
        "            next_arrival = gen_arrival(t) # gera próxima chegada\n",
        "\n",
        "        else: # evento de partida\n",
        "\n",
        "            t = next_departure # atualiza tempo atual\n",
        "            k += 1 # incrementa número de partidas\n",
        "\n",
        "            if len_q == 0: # não há fila\n",
        "                t_arrival_eff = t_arrival.pop() # tempo de chegada direta\n",
        "                server_busy = False # desocupa servidor\n",
        "                next_departure = np.inf # nenhuma partida agendada\n",
        "\n",
        "            else: # há fila\n",
        "                n_withdrawals = 1 if len_q == 1 or not xor_selection else 2 # número de retiradas\n",
        "                # será 1 se o tamanho da fila for 1 ou se a flag xor_selection for falsa\n",
        "                len_q -= n_withdrawals # decrementa fila\n",
        "                t_arrival_eff = [t_buffer.pop(0) for _ in range(n_withdrawals)]\n",
        "                next_departure = gen_departure(t) # gera nova partida\n",
        "\n",
        "            # t_departure.append(t) # armazena tempo da partida\n",
        "            total_time = (t - np.array(t_arrival_eff))\n",
        "            _ = [t_system.append(item) for item in np.nditer(total_time)]\n",
        "\n",
        "    average_system_time = np.mean(t_system) # media do tempo de sistema\n",
        "    average_system_occupancy = np.trapezoid(system_state, times)/times[-1] # número médio de elementos no sistema\n",
        "\n",
        "    blck_ratio = blocks / j # taxa de bloqueio\n",
        "\n",
        "    # retorna as variáveis de interesse\n",
        "    return {\n",
        "        'average_system_time': average_system_time,\n",
        "        'average_system_occupancy': average_system_occupancy,\n",
        "        'blck_ratio': blck_ratio,\n",
        "    }"
      ],
      "metadata": {
        "id": "cfVqBt9fKqAN"
      },
      "execution_count": null,
      "outputs": []
    },
    {
      "cell_type": "markdown",
      "source": [
        "# Teste de Sanidade:\n",
        "\n",
        "Comsiderando o exemplo da Fila M/M/1/n, visto em sala:\n",
        "\n",
        "$\\lambda = 200$ pacotes/s\n",
        "\n",
        "$\\mu = 250$ pacotes/s\n",
        "\n",
        "$N = 6$\n",
        "\n",
        "Os Resultados Simulados são compatíveis com a teoria quando `xor_selection=False`?"
      ],
      "metadata": {
        "id": "gwAvt7F3sDsB"
      }
    },
    {
      "cell_type": "code",
      "source": [
        "lamb = 200\n",
        "mu = 250\n",
        "N = 6"
      ],
      "metadata": {
        "id": "Qs5fEWzgWMnV"
      },
      "execution_count": null,
      "outputs": []
    },
    {
      "cell_type": "code",
      "source": [
        "simulate_cooperative_relay(\n",
        "        lamb=lamb,\n",
        "        mu=mu,\n",
        "        max_buffer_size=N,\n",
        "        max_departures=1000000,\n",
        "        xor_selection=False,\n",
        "        seed=42\n",
        "    )"
      ],
      "metadata": {
        "colab": {
          "base_uri": "https://localhost:8080/"
        },
        "id": "qdxU78N2OzND",
        "outputId": "a006bbe1-1fba-40a1-a92c-bdab9fca8f65"
      },
      "execution_count": null,
      "outputs": [
        {
          "output_type": "execute_result",
          "data": {
            "text/plain": [
              "{'average_system_time': np.float64(0.012561746835178127),\n",
              " 'average_system_occupancy': np.float64(2.4535951019671125),\n",
              " 'blck_ratio': 0.05063431741218622}"
            ]
          },
          "metadata": {},
          "execution_count": 11
        }
      ]
    },
    {
      "cell_type": "code",
      "source": [
        "def compute_mmk1_queue(lamb, mu, k=2):\n",
        "\n",
        "    from sympy import symbols, solve, Eq\n",
        "    from numpy import real, imag\n",
        "\n",
        "    def absval(x):\n",
        "        return (real(x)**2 + imag(x)**2)**0.5\n",
        "\n",
        "    # definir variável simbólica\n",
        "    r = symbols('r')\n",
        "\n",
        "    # Resolver a equação (3.8)\n",
        "    equation = Eq(mu*r**(k+1) - (mu + lamb)*r + lamb, 0)\n",
        "    solutions = solve(equation, r)\n",
        "    ro = [root.evalf() for root in solutions if 0<=absval(root)<1][0]\n",
        "\n",
        "    avg_sys_len = ro / (1 - ro)\n",
        "    avg_sys_time = ro / lamb\n",
        "\n",
        "    return {\n",
        "        'average_system_occupancy': avg_sys_len,\n",
        "        'average_system_time': avg_sys_time,\n",
        "    }"
      ],
      "metadata": {
        "id": "EgRpAlzIe4h-"
      },
      "execution_count": null,
      "outputs": []
    },
    {
      "cell_type": "code",
      "source": [
        "compute_mmk1_queue(lamb, mu)"
      ],
      "metadata": {
        "colab": {
          "base_uri": "https://localhost:8080/"
        },
        "id": "78IyO6hJTXzl",
        "outputId": "d155e5ab-6c0f-4a72-c831-7fbbf43f392a"
      },
      "execution_count": null,
      "outputs": [
        {
          "output_type": "execute_result",
          "data": {
            "text/plain": [
              "{'average_system_occupancy': 1.10391256382997,\n",
              " 'average_system_time': 0.00262347538297980}"
            ]
          },
          "metadata": {},
          "execution_count": 6
        }
      ]
    },
    {
      "cell_type": "code",
      "source": [
        "def compoute_mm1j_queue(lamb, mu, N):\n",
        "    pho = lamb / mu\n",
        "\n",
        "    p_b = pho**N * (1 - pho) / (1 - pho**(N+1))\n",
        "\n",
        "    e_q = pho / (1 - pho) - (N + 1)*pho**(N + 1) / (1 - pho**(N+1))\n",
        "\n",
        "    e_tq = e_q / ((1 - p_b) * lamb)\n",
        "\n",
        "    return {\n",
        "        'average_system_time': e_tq,\n",
        "        'average_system_occupancy': e_q,\n",
        "        'block_probability': p_b,\n",
        "    }"
      ],
      "metadata": {
        "id": "hUJU0Xg5IeUN"
      },
      "execution_count": null,
      "outputs": []
    },
    {
      "cell_type": "code",
      "source": [
        "compoute_mm1j_queue(lamb, mu, N+1)"
      ],
      "metadata": {
        "colab": {
          "base_uri": "https://localhost:8080/"
        },
        "id": "zykVamkL5fTV",
        "outputId": "7e523e35-4076-49b9-c1c7-e1a7d2c8f3e5"
      },
      "execution_count": null,
      "outputs": [
        {
          "output_type": "execute_result",
          "data": {
            "text/plain": [
              "{'average_system_time': 0.01256973486014156,\n",
              " 'average_system_occupancy': 2.3872477998332764,\n",
              " 'block_probability': 0.050398506255210127}"
            ]
          },
          "metadata": {},
          "execution_count": 15
        }
      ]
    },
    {
      "cell_type": "markdown",
      "source": [
        "Os Resultados São compatíveis!"
      ],
      "metadata": {
        "id": "6wsC8kRis_tB"
      }
    },
    {
      "cell_type": "markdown",
      "source": [
        "# Gerar Resultados"
      ],
      "metadata": {
        "id": "kJCy4BYv0S1x"
      }
    },
    {
      "cell_type": "code",
      "source": [
        "# parâmetros\n",
        "lamb_values = np.linspace(5, 20, 5)     # Lambda sweep\n",
        "mu_values = np.linspace(8, 20, 5)       # Mu sweep\n",
        "buffer_sizes = np.arange(2, 30, 3)       # Buffer size N sweep\n",
        "\n",
        "default_lamb = 10\n",
        "default_mu = 12\n",
        "default_N = 5\n",
        "\n",
        "def plot_metric(x, y_sim, y_mm1j, y_mmk1, xlabel, ylabel, title, filename):\n",
        "    plt.figure(figsize=(7, 5))\n",
        "    plt.plot(x, y_sim, marker='o', label='Simulation', color='black')\n",
        "    plt.plot(x, y_mm1j, marker='s', linestyle='--', label='$M/M/1/J$', color='blue')\n",
        "    plt.plot(x, y_mmk1, marker='^', linestyle='-.', label='$M/M^{K}/1$', color='red')\n",
        "\n",
        "    plt.xlabel(xlabel, fontsize=11)\n",
        "    plt.ylabel(ylabel, fontsize=11)\n",
        "    # plt.title(title, fontsize=12)\n",
        "    plt.grid(True, which='both', linestyle=':', linewidth=0.7)\n",
        "    plt.legend()\n",
        "    plt.tight_layout()\n",
        "    plt.savefig(filename, format='pdf')\n",
        "    plt.close()\n",
        "\n",
        "def run_experiment(x_values, param_name):\n",
        "    results_table = []\n",
        "\n",
        "    xlabel_map = {\n",
        "        'lamb': r'$\\lambda$ (packets/s)',\n",
        "        'mu': r'$\\mu$ (packets/s)',\n",
        "        'N': r'$N$ (Buffer Size)'\n",
        "    }\n",
        "\n",
        "    metrics = ['average_system_time', 'average_system_occupancy', 'block_probability']\n",
        "    results_sim = {m: [] for m in metrics}\n",
        "    results_mm1j = {m: [] for m in metrics}\n",
        "    results_mmk1 = {m: [] for m in metrics}\n",
        "\n",
        "    for x in x_values:\n",
        "        lamb = default_lamb\n",
        "        mu = default_mu\n",
        "        N = default_N\n",
        "        if param_name == 'lamb':\n",
        "            lamb = x\n",
        "        elif param_name == 'mu':\n",
        "            mu = x\n",
        "        elif param_name == 'N':\n",
        "            N = int(x)\n",
        "\n",
        "        # Simulation\n",
        "        sim_result = simulate_cooperative_relay(lamb, mu, N, max_departures=1000000, xor_selection=False, seed=42)\n",
        "\n",
        "        # M/M/1/J\n",
        "        try:\n",
        "            theo_mm1j = compoute_mm1j_queue(lamb, mu, N+1)\n",
        "        except ZeroDivisionError:\n",
        "            theo_mm1j = {'average_system_time': np.nan, 'average_system_occupancy': np.nan, 'block_probability': np.nan}\n",
        "\n",
        "        # M/M^K/1\n",
        "        theo_mmk1 = compute_mmk1_queue(lamb, mu, k=2)\n",
        "\n",
        "        # Append for plotting\n",
        "        for m in metrics:\n",
        "            results_sim[m].append(sim_result.get(m if m != 'block_probability' else 'blck_ratio', np.nan))\n",
        "            results_mm1j[m].append(theo_mm1j.get(m, np.nan))\n",
        "            results_mmk1[m].append(theo_mmk1.get(m, np.nan) if m != 'block_probability' else 0)\n",
        "\n",
        "        # Save full row for CSV\n",
        "        results_table.append({\n",
        "            'x_value': x,\n",
        "            'sim_avg_time': sim_result['average_system_time'],\n",
        "            'mm1j_avg_time': theo_mm1j['average_system_time'],\n",
        "            'mmk1_avg_time': theo_mmk1['average_system_time'],\n",
        "\n",
        "            'sim_avg_occupancy': sim_result['average_system_occupancy'],\n",
        "            'mm1j_avg_occupancy': theo_mm1j['average_system_occupancy'],\n",
        "            'mmk1_avg_occupancy': theo_mmk1['average_system_occupancy'],\n",
        "\n",
        "            'sim_blocking': sim_result['blck_ratio'],\n",
        "            'mm1j_blocking': theo_mm1j['block_probability'],\n",
        "            'mmk1_blocking': 0,  # No blocking for M/M^K/1\n",
        "        })\n",
        "\n",
        "    # Plot metrics\n",
        "    x = x_values\n",
        "\n",
        "    plot_metric(x, results_sim['average_system_time'],\n",
        "                results_mm1j['average_system_time'],\n",
        "                results_mmk1['average_system_time'],\n",
        "                xlabel_map[param_name],\n",
        "                '$E[t_{\\mathrm{q}}] (s)$',\n",
        "                f'Average System Time vs {param_name}',\n",
        "                f'avg_system_time_vs_{param_name}.pdf')\n",
        "\n",
        "    plot_metric(x, results_sim['average_system_occupancy'],\n",
        "                results_mm1j['average_system_occupancy'],\n",
        "                results_mmk1['average_system_occupancy'],\n",
        "                xlabel_map[param_name],\n",
        "                '$E[Q]$ (packets)',\n",
        "                f'Average System Occupancy vs {param_name}',\n",
        "                f'avg_occupancy_vs_{param_name}.pdf')\n",
        "\n",
        "    plot_metric(x, results_sim['block_probability'],\n",
        "                results_mm1j['block_probability'],\n",
        "                results_mmk1['block_probability'],\n",
        "                xlabel_map[param_name],\n",
        "                '$P_{\\mathrm{b}}$',\n",
        "                f'Blocking Probability vs {param_name}',\n",
        "                f'blocking_probability_vs_{param_name}.pdf')\n",
        "\n",
        "    # Save CSV\n",
        "    df = pd.DataFrame(results_table)\n",
        "    df.to_csv(f'results_vs_{param_name}.csv', index=False)\n",
        "\n",
        "    print(f\"Saved results_vs_{param_name}.csv and all PDF plots for {param_name} sweep.\")\n",
        "\n",
        "run_experiment(lamb_values, 'lamb')\n",
        "run_experiment(mu_values, 'mu')\n",
        "run_experiment(buffer_sizes, 'N')\n",
        "\n",
        "print(\"All plots and CSVs generated.\")\n"
      ],
      "metadata": {
        "colab": {
          "base_uri": "https://localhost:8080/"
        },
        "id": "pU3_C3sJXmFM",
        "outputId": "dad2a20a-21ca-4265-fec1-80483ea6a027"
      },
      "execution_count": null,
      "outputs": [
        {
          "output_type": "stream",
          "name": "stdout",
          "text": [
            "Saved results_vs_lamb.csv and all PDF plots for lamb sweep.\n",
            "Saved results_vs_mu.csv and all PDF plots for mu sweep.\n",
            "Saved results_vs_N.csv and all PDF plots for N sweep.\n",
            "All plots and CSVs generated.\n"
          ]
        }
      ]
    },
    {
      "cell_type": "markdown",
      "source": [
        "# Código alternartivo que considera a ocupação do servidor quando os pacotes são retirados da fina $S(t) \\in \\{0, 1, 2\\}$."
      ],
      "metadata": {
        "id": "UKq1moKu4OUN"
      }
    },
    {
      "cell_type": "code",
      "source": [
        "def simulate_cooperative_relay(\n",
        "        lamb: float = 10.,\n",
        "        mu: float = 12.,\n",
        "        max_buffer_size: int = 5,\n",
        "        max_departures: int = 50000,\n",
        "        xor_selection: bool = True,\n",
        "        seed: int = 42\n",
        "    ) -> dict:\n",
        "\n",
        "\n",
        "    from statistics import mean\n",
        "\n",
        "    # inicialização de variáveis\n",
        "    t = 0. # tempo inicial\n",
        "    len_q = 0 # número de elementos na fila\n",
        "    len_s = 0 # estado inicial do servidor (desocupado)\n",
        "    j = 0 # número de chegas\n",
        "    k = 0 # número de partidas\n",
        "    blocks = 0 # contador de bloqueios\n",
        "\n",
        "    RNG = np.random.default_rng(seed) # gerador de números aleatórios do numpy\n",
        "\n",
        "    # listas para armazenar valores\n",
        "    t_arrival = [] # tempos de chegada já atendidos diretamente\n",
        "    t_system = [] # tempos no sistema\n",
        "    t_buffer = [] # fila (buffer) de chegadas que aguardam atendimento\n",
        "    system_state = [] # guarda tamanho do sistema\n",
        "    times = [] # guarda o tempo de simulação\n",
        "\n",
        "    # funções auxiliares\n",
        "    def gen_arrival(t):\n",
        "        '''função auxiliar para gerar tempos de chegada'''\n",
        "        return t + RNG.exponential(1/lamb)\n",
        "\n",
        "    def gen_departure(t):\n",
        "        '''função auxiliar para gerar tempos de partida'''\n",
        "        return t + RNG.exponential(1/mu)\n",
        "\n",
        "    # gera os primeiros eventos\n",
        "    next_arrival = gen_arrival(t) # próxima chegada\n",
        "    next_departure = np.inf # não há partida inicialmente\n",
        "\n",
        "    # loop principal\n",
        "    while (k < max_departures): # limitado ao número de partidas\n",
        "\n",
        "        times.append(t)\n",
        "        system_state.append(len_q + len_s)\n",
        "        max_queue_size = max_buffer_size - len_s # calcula o número máximo de\n",
        "        # pacotes que podem ser armazenados na fila\n",
        "\n",
        "        if next_arrival < next_departure: # evento de chegada\n",
        "\n",
        "            t = next_arrival # atualiza tempo atual\n",
        "            j += 1 # incrementa número de chegadas\n",
        "\n",
        "            if len_s != 0: # servidor ocupado\n",
        "\n",
        "                if len_q < max_queue_size: # se houver espaço no buffer\n",
        "\n",
        "                    len_q += 1 # incrementa fila\n",
        "                    t_buffer.append(t) # armazena tempo de chegada no buffer\n",
        "\n",
        "                else: # buffer cheio\n",
        "\n",
        "                    blocks += 1 # incrementa bloqueios\n",
        "\n",
        "            else: # servidor desocupado\n",
        "                len_s = 1 # ocupa o servidor\n",
        "                t_arrival.append(t) # armazena chegada atendida diretamente\n",
        "                next_departure = gen_departure(t) # gera próxima partida\n",
        "\n",
        "            next_arrival = gen_arrival(t) # gera próxima chegada\n",
        "\n",
        "        else: # evento de partida\n",
        "\n",
        "            t = next_departure # atualiza tempo atual\n",
        "            k += 1 # incrementa número de partidas\n",
        "\n",
        "            if len_q == 0: # não há fila\n",
        "                t_arrival_eff = t_arrival.pop() # tempo de chegada direta\n",
        "                len_s = 0 # desocupa servidor\n",
        "                next_departure = np.inf # nenhuma partida agendada\n",
        "\n",
        "            else: # há fila\n",
        "                n_withdrawals = 1 if len_q == 1 or not xor_selection else 2 # número de retiradas\n",
        "                # será 1 se o tamanho da fila for 1 ou se a flag xor_selection for falsa\n",
        "                len_q -= n_withdrawals # decrementa fila\n",
        "                t_arrival_eff = [t_buffer.pop(0) for _ in range(n_withdrawals)]\n",
        "                next_departure = gen_departure(t) # gera nova partida\n",
        "                len_s = n_withdrawals\n",
        "\n",
        "            # t_departure.append(t) # armazena tempo da partida\n",
        "            total_time = (t - np.array(t_arrival_eff))\n",
        "            _ = [t_system.append(item) for item in np.nditer(total_time)]\n",
        "\n",
        "    average_system_time = np.mean(t_system) # media do tempo de sistema\n",
        "    average_system_occupancy = np.trapezoid(system_state, times)/times[-1] # número médio de elementos no sistema\n",
        "\n",
        "    blck_ratio = blocks / j # taxa de bloqueio\n",
        "\n",
        "    # retorna as variáveis de interesse\n",
        "    return {\n",
        "        'average_system_time': average_system_time,\n",
        "        'average_system_occupancy': average_system_occupancy,\n",
        "        'blck_ratio': blck_ratio,\n",
        "    }"
      ],
      "metadata": {
        "id": "OY9BNO3AJQga"
      },
      "execution_count": null,
      "outputs": []
    }
  ]
}